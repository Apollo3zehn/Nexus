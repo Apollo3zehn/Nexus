{
 "cells": [
  {
   "cell_type": "code",
   "execution_count": null,
   "metadata": {
    "dotnet_interactive": {
     "language": "csharp"
    },
    "vscode": {
     "languageId": "polyglot-notebook"
    }
   },
   "outputs": [],
   "source": [
    "// https://github.com/dotnet/interactive/issues/698\n",
    "#i \"nuget: https://www.myget.org/F/apollo3zehn-dev/api/v3/index.json\"\n",
    "#r \"nuget: Nexus.Api\""
   ]
  },
  {
   "cell_type": "markdown",
   "metadata": {},
   "source": [
    "Create client and authenticate"
   ]
  },
  {
   "cell_type": "code",
   "execution_count": null,
   "metadata": {
    "dotnet_interactive": {
     "language": "csharp"
    },
    "vscode": {
     "languageId": "polyglot-notebook"
    }
   },
   "outputs": [],
   "source": [
    "using Nexus.Api;\n",
    "\n",
    "// You get this token in the user settings menu of Nexus. \n",
    "var accessToken = \"<token>\";\n",
    "var uri = new Uri(\"http://localhost:5000\");\n",
    "var client = new NexusClient(uri);\n",
    "\n",
    "client.SignIn(accessToken);"
   ]
  },
  {
   "cell_type": "markdown",
   "metadata": {},
   "source": [
    "Export data from sample catalog `/SAMPLE/LOCAL`"
   ]
  },
  {
   "cell_type": "code",
   "execution_count": null,
   "metadata": {
    "dotnet_interactive": {
     "language": "csharp"
    },
    "vscode": {
     "languageId": "polyglot-notebook"
    }
   },
   "outputs": [],
   "source": [
    "var begin = new DateTime(2020, 02, 01, 0, 0, 0, DateTimeKind.Utc);\n",
    "var end = new DateTime(2020, 02, 02, 0, 0, 0, DateTimeKind.Utc);\n",
    "\n",
    "const string T1 = \"/SAMPLE/LOCAL/T1/1_s\";\n",
    "const string V1 = \"/SAMPLE/LOCAL/V1/1_s\";\n",
    "\n",
    "// Use a file period of zero to write all data into a single file.\n",
    "var filePeriod = TimeSpan.Zero;\n",
    "\n",
    "// The following writers are currently supported: \n",
    "// \"Nexus.Writers.Csv\" | \"Nexus.Writers.Hdf5\" | \"Nexus.Writers.Mat73\" | \"Nexus.Writers.Famos\"\n",
    "var fileFormat = \"Nexus.Writers.Csv\";\n",
    "\n",
    "// Nexus.Writers.Csv supports the following optional request configuration parameters:\n",
    "// https://github.com/malstroem-labs/nexus/blob/master/src/Nexus/Extensions/Writers/README.md\n",
    "var configuration = new Dictionary<string, object>()\n",
    "{\n",
    "    [\"significant-figures\"] = \"4\",\n",
    "    [\"row-index-format\"] = \"iso-8601\"\n",
    "};\n",
    "\n",
    "await client.ExportAsync(\n",
    "    begin,\n",
    "    end,\n",
    "    filePeriod,\n",
    "    fileFormat,\n",
    "    resourcePaths: new string[] { T1, V1 },\n",
    "    configuration,\n",
    "    targetFolder: \"data\",\n",
    "    onProgress: (progress, message) => Console.WriteLine($\"{progress * 100,3:##0} %: {message}\")\n",
    ");"
   ]
  }
 ],
 "metadata": {
  "kernelspec": {
   "display_name": ".NET (C#)",
   "language": "C#",
   "name": ".net-csharp"
  },
  "language_info": {
   "file_extension": ".cs",
   "mimetype": "text/x-csharp",
   "name": "C#",
   "pygments_lexer": "csharp",
   "version": "9.0"
  },
  "vscode": {
   "interpreter": {
    "hash": "e7370f93d1d0cde622a1f8e1c04877d8463912d04d973331ad4851f04de6915a"
   }
  }
 },
 "nbformat": 4,
 "nbformat_minor": 2
}
