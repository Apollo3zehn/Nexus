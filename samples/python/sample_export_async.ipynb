{
 "cells": [
  {
   "cell_type": "code",
   "execution_count": null,
   "metadata": {
    "dotnet_interactive": {
     "language": "csharp"
    }
   },
   "outputs": [],
   "source": [
    "import sys\n",
    "\n",
    "!{sys.executable} -m pip install --quiet --disable-pip-version-check httpx matplotlib nexus-api"
   ]
  },
  {
   "cell_type": "markdown",
   "metadata": {},
   "source": [
    "Create client and authenticate"
   ]
  },
  {
   "cell_type": "code",
   "execution_count": 1,
   "metadata": {
    "dotnet_interactive": {
     "language": "csharp"
    }
   },
   "outputs": [],
   "source": [
    "from nexus_api import NexusAsyncClient\n",
    "\n",
    "# You get this token in the user settings menu of Nexus.\n",
    "access_token = \"<token>\"\n",
    "base_url = \"http://localhost:5000\"\n",
    "client = NexusAsyncClient.create(base_url)\n",
    "\n",
    "client.sign_in(access_token)"
   ]
  },
  {
   "cell_type": "markdown",
   "metadata": {},
   "source": [
    "Export data from sample catalog `/SAMPLE/LOCAL`"
   ]
  },
  {
   "cell_type": "code",
   "execution_count": 3,
   "metadata": {
    "dotnet_interactive": {
     "language": "csharp"
    }
   },
   "outputs": [
    {
     "name": "stdout",
     "output_type": "stream",
     "text": [
      "100 %: export\n",
      "100 %: download\n",
      "100 %: extract\n"
     ]
    }
   ],
   "source": [
    "from datetime import datetime, timedelta, timezone\n",
    "\n",
    "begin   = datetime(2020, 1, 1, 0, 0, tzinfo=timezone.utc)\n",
    "end     = datetime(2020, 1, 2, 0, 0, tzinfo=timezone.utc)\n",
    "\n",
    "T1      = \"/SAMPLE/LOCAL/T1/1_s\"\n",
    "V1      = \"/SAMPLE/LOCAL/V1/1_s\"\n",
    "\n",
    "# Use a file period of zero to write all data into a single file.\n",
    "file_period = timedelta(0)\n",
    "\n",
    "# The following writers are currently supported: \n",
    "# \"Nexus.Writers.Csv\" | \"Nexus.Writers.Hdf5\" | \"Nexus.Writers.Mat73\" | \"Nexus.Writers.Famos\"\n",
    "file_format = \"Nexus.Writers.Csv\"\n",
    "\n",
    "# Nexus.Writers.Csv supports the following optional request configuration parameters:\n",
    "# https://github.com/malstroem-labs/nexus/blob/master/src/Nexus/Extensions/Writers/README.md\n",
    "configuration: dict[str, object] = {\n",
    "    \"significant-figures\": \"4\",\n",
    "    \"row-index-format\": \"iso-8601\"\n",
    "}\n",
    "\n",
    "await client.export(\n",
    "    begin,\n",
    "    end,\n",
    "    file_period,\n",
    "    file_format,\n",
    "    resource_paths=[T1, V1],\n",
    "    configuration=configuration,\n",
    "    target_folder=\"data\",\n",
    "    on_progress=lambda progress, message: print(f\"{progress * 100:3.0f} %: {message}\")\n",
    ")"
   ]
  }
 ],
 "metadata": {
  "kernelspec": {
   "display_name": "Python 3.10.6 64-bit",
   "language": "python",
   "name": "python3"
  },
  "language_info": {
   "file_extension": ".cs",
   "mimetype": "text/x-csharp",
   "name": "python",
   "pygments_lexer": "csharp",
   "version": "3.10.7"
  },
  "vscode": {
   "interpreter": {
    "hash": "e7370f93d1d0cde622a1f8e1c04877d8463912d04d973331ad4851f04de6915a"
   }
  }
 },
 "nbformat": 4,
 "nbformat_minor": 2
}
